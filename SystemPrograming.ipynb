{
  "nbformat": 4,
  "nbformat_minor": 0,
  "metadata": {
    "colab": {
      "name": "SystemPrograming.ipynb",
      "provenance": [],
      "collapsed_sections": [],
      "include_colab_link": true
    },
    "kernelspec": {
      "name": "python3",
      "display_name": "Python 3"
    }
  },
  "cells": [
    {
      "cell_type": "markdown",
      "metadata": {
        "id": "view-in-github",
        "colab_type": "text"
      },
      "source": [
        "<a href=\"https://colab.research.google.com/github/yeeh-l/systemprogramming/blob/master/SystemPrograming.ipynb\" target=\"_parent\"><img src=\"https://colab.research.google.com/assets/colab-badge.svg\" alt=\"Open In Colab\"/></a>"
      ]
    },
    {
      "cell_type": "markdown",
      "metadata": {
        "id": "iT2q9aLw9WF1",
        "colab_type": "text"
      },
      "source": [
        "**Messages**\n",
        "\n",
        "(5/5) 完成完整印出2.2的程式 <br>\n",
        "(5/6) Loc計算的部份完成了，目前包含RESW、RESB、+(第四版)、BASE的特殊處理方式 <br>\n",
        "(5/6) 我修好wget的問題了，可以直接抓檔案下來了\n",
        "<BR> -->原來用raw就能變成原始儲存格式，Github真是神\n",
        "<BR>(5/6) InputFile 可能要加一個List來儲存最後算出來的結果\n",
        "<BR>(5/8) OutPut結果儲存在listOut，輸出成txt匯出\n",
        "<BR>(6/1) 我在OPtable新增一個list用來存6-bit binary的opcode\n",
        "\n",
        "---\n",
        "\n",
        "    ch2.2內要寫兩個program，我表示成A、B\n",
        "    A-> 圖2.1變成圖2.2 (產生目的碼)\n",
        "    B-> 圖2.2變成圖2.3(執行檔)\n",
        "\n",
        "    *   A的寫法:(我ㄉ想法 ->求意見 不確定實不實用)\n",
        "\n",
        "    1. 建立optable，內有兩個list分別存\n",
        "        SIC/XE 指令集 、 運作碼  (格式(format)) \n",
        "    2. 建立input的list儲存輸入\n",
        "        ->  行號 、變數 、 指令 、 物品 、  註解   //->這是我設的變數名稱，使用圖2.1 每個column對應\n",
        "        EX:  5 、 COPY 、 START 、 1000  、 COPY FILE---  \n",
        "    3. 再用指令list去跟optable內的指令集對應出 他的格式(3或4) -> 可推斷出每行記憶體位置要加多少(3或4)\n",
        "    4. 利用推斷出每行input的記憶體位置，產生目的碼 (我會再用list儲存起來)\n",
        "\n",
        "---\n",
        "計算Loc的方式\n",
        "    \n",
        "    1.def一個16進位轉16進位字串的函數\n",
        "    2.清空所有的Loc\n",
        "    3.進入計算自己那一行的Loc\n",
        "        1.計算START END\n",
        "        2.跳過註解\n",
        "        3.計算其他Ins\n",
        "            1.跳過註解找到前一行的Loc\n",
        "            2.如果是+(第四版)再加一\n",
        "    4.處理有影響到下一的Ins (RESW、RESB)\n",
        "        1.計算下一行的Loc\n",
        "        2.跳過註解找到下一行的要存的Loc      "
      ]
    },
    {
      "cell_type": "markdown",
      "metadata": {
        "id": "74EeqhmoZV6N",
        "colab_type": "text"
      },
      "source": [
        "# Main code"
      ]
    },
    {
      "cell_type": "markdown",
      "metadata": {
        "id": "pBsT2-TUnBiE",
        "colab_type": "text"
      },
      "source": [
        "## 讀入OPtable"
      ]
    },
    {
      "cell_type": "code",
      "metadata": {
        "id": "k_lpgUhC37bn",
        "colab_type": "code",
        "colab": {
          "base_uri": "https://localhost:8080/",
          "height": 391
        },
        "outputId": "8e5b1160-1452-470a-d5ff-2c83c7a0c520"
      },
      "source": [
        "# get files from github\n",
        "!wget https://raw.githubusercontent.com/yeeh-l/systemprogramming/master/input01.txt\n",
        "!wget https://raw.githubusercontent.com/yeeh-l/systemprogramming/master/optable.txt"
      ],
      "execution_count": null,
      "outputs": [
        {
          "output_type": "stream",
          "text": [
            "--2020-06-18 08:13:25--  https://raw.githubusercontent.com/yeeh-l/systemprogramming/master/input01.txt\n",
            "Resolving raw.githubusercontent.com (raw.githubusercontent.com)... 151.101.0.133, 151.101.64.133, 151.101.128.133, ...\n",
            "Connecting to raw.githubusercontent.com (raw.githubusercontent.com)|151.101.0.133|:443... connected.\n",
            "HTTP request sent, awaiting response... 200 OK\n",
            "Length: 713 [text/plain]\n",
            "Saving to: ‘input01.txt’\n",
            "\n",
            "\rinput01.txt           0%[                    ]       0  --.-KB/s               \rinput01.txt         100%[===================>]     713  --.-KB/s    in 0s      \n",
            "\n",
            "2020-06-18 08:13:25 (34.0 MB/s) - ‘input01.txt’ saved [713/713]\n",
            "\n",
            "--2020-06-18 08:13:27--  https://raw.githubusercontent.com/yeeh-l/systemprogramming/master/optable.txt\n",
            "Resolving raw.githubusercontent.com (raw.githubusercontent.com)... 151.101.0.133, 151.101.64.133, 151.101.128.133, ...\n",
            "Connecting to raw.githubusercontent.com (raw.githubusercontent.com)|151.101.0.133|:443... connected.\n",
            "HTTP request sent, awaiting response... 200 OK\n",
            "Length: 1119 (1.1K) [text/plain]\n",
            "Saving to: ‘optable.txt’\n",
            "\n",
            "optable.txt         100%[===================>]   1.09K  --.-KB/s    in 0s      \n",
            "\n",
            "2020-06-18 08:13:27 (26.4 MB/s) - ‘optable.txt’ saved [1119/1119]\n",
            "\n"
          ],
          "name": "stdout"
        }
      ]
    },
    {
      "cell_type": "code",
      "metadata": {
        "id": "rTvewgxhZZKQ",
        "colab_type": "code",
        "colab": {}
      },
      "source": [
        "class OPtable:\n",
        "    def __init__(self):\n",
        "        self.count = 0\n",
        "        self.AMlist = [] #Assembly Mnemonic\n",
        "        self.OPlist = [] #opcode in hex\n",
        "        self.OPcode = [] #opcode in 6-bit binary\n",
        "    def addlist(self, am, op):\n",
        "        self.AMlist.append(am)\n",
        "        self.OPlist.append(op)\n",
        "\n",
        "        code = bin(int(op, 16))\n",
        "        code = code[2:-2].zfill(6)\n",
        "        self.OPcode.append(code)\n",
        "        self.count += 1\n",
        "    def showAM(self):\n",
        "        for i in range(self.count):\n",
        "            print(self.AMlist[i])\n",
        "    def showOP(self):\n",
        "        for i in range(self.count):\n",
        "            print(self.OPlist[i], self.OPcode[i], sep=\"\\t\")\n",
        "    def show(self):\n",
        "        for i in range(self.count):\n",
        "            print(i, self.AMlist[i], self.OPlist[i], self.OPcode[i], sep=\"\\t\")\n",
        "    def __del__(self):\n",
        "        self.count = 0\n",
        "        AMlist = []\n",
        "        OPlist = []\n",
        "        OPcode = []"
      ],
      "execution_count": null,
      "outputs": []
    },
    {
      "cell_type": "code",
      "metadata": {
        "id": "QkMGcWi5nP6f",
        "colab_type": "code",
        "colab": {}
      },
      "source": [
        "optable = open('/content/optable.txt')\n",
        "RL = optable.readline()\n",
        "table = OPtable()\n",
        "while RL:\n",
        "    stri = RL.split(\" \")\n",
        "    table.addlist(stri[0], stri[-1].rstrip())\n",
        "    RL = optable.readline()"
      ],
      "execution_count": null,
      "outputs": []
    },
    {
      "cell_type": "code",
      "metadata": {
        "id": "NLCUBvFqm9N2",
        "colab_type": "code",
        "colab": {}
      },
      "source": [
        "#table.showAM() \n",
        "#table.showOP()\n",
        "table.show()"
      ],
      "execution_count": null,
      "outputs": []
    },
    {
      "cell_type": "markdown",
      "metadata": {
        "id": "zjTN7AytwMaz",
        "colab_type": "text"
      },
      "source": [
        "## 讀入原始敘述list儲存"
      ]
    },
    {
      "cell_type": "markdown",
      "metadata": {
        "id": "kFB7Qurx1J19",
        "colab_type": "text"
      },
      "source": [
        "<H>組譯器指引指令:"
      ]
    },
    {
      "cell_type": "code",
      "metadata": {
        "id": "KcTjIvIe1Wtq",
        "colab_type": "code",
        "colab": {}
      },
      "source": [
        "#assembler directives\n",
        "ADlist = ['START' , 'END' , 'BYTE' , 'WORD' , 'RESB' , 'RESW']"
      ],
      "execution_count": null,
      "outputs": []
    },
    {
      "cell_type": "code",
      "metadata": {
        "id": "3EvBDpGGyuAK",
        "colab_type": "code",
        "colab": {}
      },
      "source": [
        "class InputFile:\n",
        "    def __init__(self):\n",
        "        self.Line = 0\n",
        "        self.Loc = []\n",
        "        self.Var = []\n",
        "        self.Ins = []\n",
        "        self.Item= []\n",
        "        self.Comment=[]\n",
        "    def AddLoc(self,inter):\n",
        "        self.Loc.append(inter)\n",
        "    def AddVar(self,string):\n",
        "        self.Var.append(string)\n",
        "    def AddIns(self,string):\n",
        "        self.Ins.append(string)\n",
        "    def AddItem(self,string):\n",
        "        self.Item.append(string)\n",
        "    def AddComment(self,string):\n",
        "        self.Comment.append(string)\n",
        "    def Show(self):\n",
        "        for i in range(self.Line):\n",
        "            print(i, self.Loc[i], self.Var[i], self.Ins[i], self.Item[i], sep='\\t')"
      ],
      "execution_count": null,
      "outputs": []
    },
    {
      "cell_type": "code",
      "metadata": {
        "id": "c4OFi2xAwR-i",
        "colab_type": "code",
        "colab": {}
      },
      "source": [
        "input1 = open(\"/content/input01.txt\")\n",
        "RF = input1.readline()\n",
        "inP = InputFile()\n",
        "line = 0\n",
        "while RF:\n",
        "    strin = RF.split()\n",
        "    line += 1\n",
        "\n",
        "    #排除首行 START 僅有兩個值\n",
        "    if inP.Line==0 & len(strin)==2:\n",
        "        print(\"Error : 首行僅有兩個值\")\n",
        "        break\n",
        "    \n",
        "    boo1 = strin[0] in ADlist\n",
        "    boo2 = strin[0] in table.AMlist\n",
        "    \n",
        "    if boo1 | boo2: \n",
        "        if len(strin)==1:\n",
        "            inP.AddLoc('')\n",
        "            inP.AddVar('')\n",
        "            inP.AddIns(strin[0])\n",
        "            inP.AddItem('')\n",
        "            inP.Line+=1\n",
        "        else:\n",
        "            inP.AddLoc('')\n",
        "            inP.AddVar('')\n",
        "            inP.AddIns(strin[0])\n",
        "            inP.AddItem(strin[1])\n",
        "            inP.Line+=1\n",
        "    elif strin[0]==\".\":\n",
        "        inP.AddLoc('')\n",
        "        inP.AddVar(strin[0])\n",
        "        inP.AddIns('')\n",
        "        inP.AddItem('')\n",
        "        inP.Line+=1\n",
        "    else:\n",
        "        if strin[0] not in inP.Var :\n",
        "            inP.AddLoc('')\n",
        "            inP.AddVar(strin[0])\n",
        "            inP.AddIns(strin[1])\n",
        "            inP.AddItem(strin[2])\n",
        "            inP.Line+=1\n",
        "            ### 缺SYMTAB ### \n",
        "        else:\n",
        "            print(\"Error : Duplicate symbol\")\n",
        "            break\n",
        "    RF = input1.readline()"
      ],
      "execution_count": null,
      "outputs": []
    },
    {
      "cell_type": "markdown",
      "metadata": {
        "id": "8Mg-yg7so-lx",
        "colab_type": "text"
      },
      "source": [
        "## 計算 loc"
      ]
    },
    {
      "cell_type": "code",
      "metadata": {
        "id": "Gh7yK9pbSioO",
        "colab_type": "code",
        "colab": {}
      },
      "source": [
        "def IntHex_To_StrHex(InpHex, fill_num=0):\n",
        "    InpHex = str(InpHex)\n",
        "    InpHex = InpHex[2:]\n",
        "    InpHex = InpHex.zfill(fill_num)\n",
        "    return InpHex\n",
        "\n",
        "for i in range(inP.Line):\n",
        "    inP.Loc[i]=''\n",
        "\n",
        "for i in range(inP.Line):\n",
        "    \n",
        "    if inP.Ins[i]=='START':\n",
        "            Loc = inP.Item[i]\n",
        "            Loc = Loc.zfill(4)\n",
        "            inP.Loc[i] = Loc\n",
        "            inP.Loc[i+1] = Loc\n",
        "    elif inP.Ins[i]=='':\n",
        "        pass    #跳過註解\n",
        "    elif inP.Loc[i]=='':                   #1 Test\n",
        "        pre_id = 1\n",
        "        PreLoc = inP.Loc[i-pre_id]\n",
        "        while PreLoc=='':\n",
        "            pre_id+=1\n",
        "            PreLoc = inP.Loc[i-pre_id]\n",
        "        if inP.Ins[i][0]=='+':\n",
        "            Loc = hex(int(PreLoc, 16)+4)\n",
        "        else:\n",
        "            Loc = hex(int(PreLoc, 16)+3)\n",
        "        inP.Loc[i] = IntHex_To_StrHex(Loc, 4)\n",
        "    else:\n",
        "        pass\n",
        "\n",
        "    if inP.Ins[i] in ['RESW', 'RESB', 'BYTE']:      #2\n",
        "        next_id = 1\n",
        "        next_var = inP.Var[i+next_id]\n",
        "        next_ins = inP.Ins[i+next_id]\n",
        "        if (next_var=='') & (next_ins==''):\n",
        "            print('Error:下行缺少Assembly Mnemonic \\nLine:', i, inP.Ins[i])\n",
        "            break\n",
        "        while next_var=='.':\n",
        "            next_id+=1\n",
        "            next_var = inP.Var[i+next_id]\n",
        "            next_ins = inP.Ins[i+next_id]\n",
        "        Loc = inP.Loc[i]\n",
        "        \n",
        "        if inP.Ins[i]=='RESW':\n",
        "            NextLoc = hex(int(Loc, 16)+int(inP.Item[i], 10)*3)\n",
        "        elif inP.Ins[i]=='RESB':\n",
        "            NextLoc = hex(int(Loc, 16)+int(inP.Item[i], 10))\n",
        "        elif inP.Ins[i]=='BYTE':\n",
        "            item = inP.Item[i].split(\"'\")\n",
        "            if item[0]=='X':\n",
        "                NextLoc = hex(int(Loc, 16)+1)\n",
        "            elif item[0]=='C':\n",
        "                NextLoc = hex(int(Loc, 16)+3)\n",
        "        else:\n",
        "            print('Error')\n",
        "            break\n",
        "        \n",
        "        NextLoc = IntHex_To_StrHex(NextLoc, 4)\n",
        "        inP.Loc[i+next_id] = NextLoc\n",
        "    else:\n",
        "        pass\n",
        "\n",
        "last_loc = inP.Loc[-1]\n",
        "inP.Loc[-1] = ''"
      ],
      "execution_count": null,
      "outputs": []
    },
    {
      "cell_type": "code",
      "metadata": {
        "id": "NkknK7-pGTKl",
        "colab_type": "code",
        "colab": {
          "base_uri": "https://localhost:8080/",
          "height": 874
        },
        "outputId": "035d6539-8149-40f2-ec00-ae7854c8f425"
      },
      "source": [
        "inP.Show()"
      ],
      "execution_count": null,
      "outputs": [
        {
          "output_type": "stream",
          "text": [
            "0\t1000\tCOPY\tSTART\t1000\n",
            "1\t1000\tFIRST\tSTL\tRETADR\n",
            "2\t1003\tCLOOP\tJSUB\tRDREC\n",
            "3\t1006\t\tLDA\tLENGTH\n",
            "4\t1009\t\tCOMP\tZERO\n",
            "5\t100c\t\tJEQ\tENDFIL\n",
            "6\t100f\t\tJSUB\tWRREC\n",
            "7\t1012\t\tJ\tCLOOP\n",
            "8\t1015\tENDFIL\tLDA\tEOF\n",
            "9\t1018\t\tSTA\tBUFFER\n",
            "10\t101b\t\tLDA\tTHREE\n",
            "11\t101e\t\tSTA\tLENGTH\n",
            "12\t1021\t\tJSUB\tWRREC\n",
            "13\t1024\t\tLDL\tRETADR\n",
            "14\t1027\t\tRSUB\t\n",
            "15\t102a\tEOF\tBYTE\tC'EOF'\n",
            "16\t102d\tTHREE\tWORD\t3\n",
            "17\t1030\tZERO\tWORD\t0\n",
            "18\t1033\tRETADR\tRESW\t1\n",
            "19\t1036\tLENGTH\tRESW\t1\n",
            "20\t1039\tBUFFER\tRESB\t4096\n",
            "21\t\t.\t\t\n",
            "22\t\t.\t\t\n",
            "23\t\t.\t\t\n",
            "24\t2039\tRDREC\tLDX\tZERO\n",
            "25\t203c\t\tLDA\tZERO\n",
            "26\t203f\tRLOOP\tTD\tINPUT\n",
            "27\t2042\t\tJEQ\tRLOOP\n",
            "28\t2045\t\tRD\tINPUT\n",
            "29\t2048\t\tCOMP\tZERO\n",
            "30\t204b\t\tJEQ\tEXIT\n",
            "31\t204e\t\tSTCH\tBUFFER,X\n",
            "32\t2051\t\tTIX\tMAXLEN\n",
            "33\t2054\t\tJLT\tRLOOP\n",
            "34\t2057\tEXIT\tSTX\tLENGTH\n",
            "35\t205a\t\tRSUB\t\n",
            "36\t205d\tINPUT\tBYTE\tX'F1'\n",
            "37\t205e\tMAXLEN\tWORD\t4096\n",
            "38\t\t.\t\t\n",
            "39\t\t.\t\t\n",
            "40\t\t.\t\t\n",
            "41\t2061\tWRREC\tLDX\tZERO\n",
            "42\t2064\tWLOOP\tTD\tOUTPUT\n",
            "43\t2067\t\tJEQ\tWLOOP\n",
            "44\t206a\t\tLDCH\tBUFFER,X\n",
            "45\t206d\t\tWD\tOUTPUT\n",
            "46\t2070\t\tTIX\tLENGTH\n",
            "47\t2073\t\tJLT\tWLOOP\n",
            "48\t2076\t\tRSUB\t\n",
            "49\t2079\tOUTPUT\tBYTE\tX'05'\n",
            "50\t\t\tEND\tFIRST\n"
          ],
          "name": "stdout"
        }
      ]
    },
    {
      "cell_type": "markdown",
      "metadata": {
        "id": "1iQNNyCg-J0q",
        "colab_type": "text"
      },
      "source": [
        "### Pass1 to txt"
      ]
    },
    {
      "cell_type": "code",
      "metadata": {
        "id": "fTHLSyNLzluP",
        "colab_type": "code",
        "colab": {}
      },
      "source": [
        "#list save all output datas to listOut\n",
        "listOut=[]\n",
        "for x in range(inP.Line):\n",
        "   listOut.append(str(x) +\"\\t\"+ inP.Loc[x] +\"\\t\"+ inP.Var[x] +\"\\t\"+ inP.Ins[x] +\"\\t\"+ inP.Item[x] +\"\\n\")\n",
        "for x in listOut:\n",
        "  print(x)"
      ],
      "execution_count": null,
      "outputs": []
    },
    {
      "cell_type": "code",
      "metadata": {
        "id": "4kljU_BJzhNw",
        "colab_type": "code",
        "colab": {}
      },
      "source": [
        "#create file name as output01.txt and write on it \n",
        "fo = open('/content/output01.txt','x')   #建立 if exist->註解掉這行\n",
        "fo = open('/content/output01.txt','w')\n",
        "row = inP.Line\n",
        "for x in range(row):\n",
        "  fo.writelines(listOut[x])   \n",
        "  print(listOut[x])\n",
        "fo.close()    #file name:output01.txt #size:971  ->correct"
      ],
      "execution_count": null,
      "outputs": []
    },
    {
      "cell_type": "markdown",
      "metadata": {
        "id": "U3QzFXqVpIR4",
        "colab_type": "text"
      },
      "source": [
        "## 計算 object code"
      ]
    },
    {
      "cell_type": "code",
      "metadata": {
        "id": "zOcxv01gC2z1",
        "colab_type": "code",
        "colab": {}
      },
      "source": [
        "class ObjectFile:\n",
        "    def __init__(self):\n",
        "        self.count = 0\n",
        "        self.ObjCode = []\n",
        "        self.Choose = []\n",
        "    def AddObj(self,inter):\n",
        "        self.ObjCode.append(inter)\n",
        "        self.count += 1\n",
        "    def SetChoose(self,bol):\n",
        "        self.Choose.append(bol)\n",
        "    def Show(self):\n",
        "        for i in range(self.count):\n",
        "            print((i+1)*5, self.ObjCode[i], sep=\"\\t\")"
      ],
      "execution_count": null,
      "outputs": []
    },
    {
      "cell_type": "code",
      "metadata": {
        "id": "IBMKksn3E5j0",
        "colab_type": "code",
        "colab": {
          "base_uri": "https://localhost:8080/",
          "height": 874
        },
        "outputId": "d6959c17-fc27-42c1-8d89-30fdb55967cf"
      },
      "source": [
        "ouP = ObjectFile()\n",
        "\n",
        "for i in range(inP.Line):\n",
        "    \n",
        "    if inP.Ins[i] in ADlist:\n",
        "        if inP.Ins[i]=='BYTE':\n",
        "            item = inP.Item[i].split(\"'\")\n",
        "            if item[0]=='X':\n",
        "                ouP.AddObj(item[1])\n",
        "                ouP.SetChoose(1)\n",
        "            elif item[0]=='C':\n",
        "                s = \"\"\n",
        "                for i in range(len(item[1])):\n",
        "                    H = hex(ord(item[1][i]))\n",
        "                    s+=str(H[2:])\n",
        "                ouP.AddObj(s)\n",
        "                ouP.SetChoose(1)\n",
        "            else:\n",
        "                print('Error')\n",
        "                break\n",
        "        elif inP.Ins[i]=='WORD':\n",
        "            item = hex(int(inP.Item[i]))\n",
        "            item = item[2:].zfill(6)\n",
        "            ouP.AddObj(item)\n",
        "            ouP.SetChoose(1)\n",
        "        else:\n",
        "            ouP.AddObj('@') #space\n",
        "            ouP.SetChoose(\"NOT Choose\")\n",
        "    elif inP.Ins[i]=='':\n",
        "        ouP.AddObj('comment')  #space\n",
        "        ouP.SetChoose(\"NOT Choose\")\n",
        "    elif inP.Ins[i]=='RSUB':\n",
        "        ouP.AddObj('4C0000')\n",
        "        ouP.SetChoose(1)\n",
        "    elif inP.Ins[i] in table.AMlist:\n",
        "        am = table.AMlist.index(inP.Ins[i])\n",
        "        op = table.OPlist[am]\n",
        "\n",
        "        item = inP.Item[i].split(',')\n",
        "        if len(item)==2:\n",
        "            var_loc = inP.Var.index(item[0])\n",
        "            var = inP.Loc[var_loc]\n",
        "            var = 8000 + int(var)\n",
        "        else:    \n",
        "            var_loc = inP.Var.index(inP.Item[i])\n",
        "            var = inP.Loc[var_loc]\n",
        "        \n",
        "        opCode = str(op) + str(var)\n",
        "        ouP.AddObj(opCode)\n",
        "        ouP.SetChoose(1)\n",
        "    else:\n",
        "        print('Error：Cannot find vaild Ins')\n",
        "        break\n",
        "\n",
        "ouP.Show()"
      ],
      "execution_count": null,
      "outputs": [
        {
          "output_type": "stream",
          "text": [
            "5\t@\n",
            "10\t141033\n",
            "15\t482039\n",
            "20\t001036\n",
            "25\t281030\n",
            "30\t301015\n",
            "35\t482061\n",
            "40\t3C1003\n",
            "45\t00102a\n",
            "50\t0C1039\n",
            "55\t00102d\n",
            "60\t0C1036\n",
            "65\t482061\n",
            "70\t081033\n",
            "75\t4C0000\n",
            "80\t454f46\n",
            "85\t000003\n",
            "90\t000000\n",
            "95\t@\n",
            "100\t@\n",
            "105\t@\n",
            "110\tcomment\n",
            "115\tcomment\n",
            "120\tcomment\n",
            "125\t041030\n",
            "130\t001030\n",
            "135\tE0205d\n",
            "140\t30203f\n",
            "145\tD8205d\n",
            "150\t281030\n",
            "155\t302057\n",
            "160\t549039\n",
            "165\t2C205e\n",
            "170\t38203f\n",
            "175\t101036\n",
            "180\t4C0000\n",
            "185\tF1\n",
            "190\t001000\n",
            "195\tcomment\n",
            "200\tcomment\n",
            "205\tcomment\n",
            "210\t041030\n",
            "215\tE02079\n",
            "220\t302064\n",
            "225\t509039\n",
            "230\tDC2079\n",
            "235\t2C1036\n",
            "240\t382064\n",
            "245\t4C0000\n",
            "250\t05\n",
            "255\t@\n"
          ],
          "name": "stdout"
        }
      ]
    },
    {
      "cell_type": "code",
      "metadata": {
        "id": "OvetoFE0ORpQ",
        "colab_type": "code",
        "colab": {}
      },
      "source": [
        "class TargetFile:\n",
        "    def __init__(self):\n",
        "        self.count = 0\n",
        "        self.TaCode = []\n",
        "    def AddObj(self,inter):\n",
        "        self.TaCode.append(inter)\n",
        "        self.count += 1\n",
        "    def Show(self):\n",
        "        for i in range(self.count):\n",
        "            print((i+1)*5, self.TaCode[i], sep=\"\\t\")\n",
        "\n",
        "def join_string(words):\n",
        "    result=\"\"\n",
        "    for word in words:\n",
        "        result+=word\n",
        "        #result+=\"∧\"\n",
        "    return result"
      ],
      "execution_count": null,
      "outputs": []
    },
    {
      "cell_type": "code",
      "metadata": {
        "id": "7Kbmn120Oh_S",
        "colab_type": "code",
        "colab": {
          "base_uri": "https://localhost:8080/",
          "height": 118
        },
        "outputId": "41033d02-cad3-4443-c8ed-bff49022f91e"
      },
      "source": [
        "#ta = TargetFile()\n",
        "\n",
        "length = hex(int(last_loc, 16)-int(inP.Loc[0], 16))\n",
        "#n = ['H', inP.Var[0].ljust(6), inP.Loc[0].zfill(6), length[2:].zfill(6)]\n",
        "#head = join_string(n)\n",
        "#ta.AddObj(head)\n",
        "print('H'+inP.Var[0].ljust(6)+\".\"+inP.Loc[0].zfill(6)+\".\"+length[2:].zfill(6))\n",
        "\n",
        "cnt = 0\n",
        "totcot =0\n",
        "n = ''\n",
        "for i in range(ouP.count):    \n",
        "    if(cnt == 0):\n",
        "      T = inP.Loc[i]\n",
        "    \n",
        "    if(ouP.Choose[i] != \"NOT Choose\"):\n",
        "      #print(\"#\",ouP.Choose[i],\"#\")\n",
        "      n += '.'\n",
        "      n += str(ouP.ObjCode[i])\n",
        "      cnt += 1\n",
        "      totcot += len(ouP.ObjCode[i])\n",
        "    #print(ouP.ObjCode[i])\n",
        "    if cnt==10:\n",
        "        totcot /= 2\n",
        "        totcot = int(totcot)\n",
        "        k += cnt \n",
        "        #X = hex(int(inP.Loc[totcot], 16)+3-int(inP.Loc[k], 16))\n",
        "        #print(hex(totcot))\n",
        "        print('T.'+ T.zfill(6) +\".\"+ str(hex(totcot))[2:] + n )\n",
        "        cnt = 0\n",
        "        totcot = 0\n",
        "        n = ''\n",
        "print('E'+ inP.Loc[0].zfill(6))"
      ],
      "execution_count": null,
      "outputs": [
        {
          "output_type": "stream",
          "text": [
            "HCOPY  .001000.00107a\n",
            "T.001000.1e.141033.482039.001036.281030.301015.482061.3C1003.00102a.0C1039.00102d\n",
            "T.00101e.1e.0C1036.482061.081033.4C0000.454f46.000003.000000.041030.001030.E0205d\n",
            "T.002042.1c.30203f.D8205d.281030.302057.549039.2C205e.38203f.101036.4C0000.F1\n",
            "T.00205e.1c.001000.041030.E02079.302064.509039.DC2079.2C1036.382064.4C0000.05\n",
            "E001000\n"
          ],
          "name": "stdout"
        }
      ]
    },
    {
      "cell_type": "markdown",
      "metadata": {
        "id": "g7xjuSh6-_-Z",
        "colab_type": "text"
      },
      "source": [
        "#加分"
      ]
    },
    {
      "cell_type": "code",
      "metadata": {
        "id": "FLCJkgXeu69M",
        "colab_type": "code",
        "colab": {}
      },
      "source": [
        "#### 2.10\n",
        "ouP = ObjectFile()\n",
        "\n",
        "for i in range(inP.Line):\n",
        "\n",
        "    if inP.Ins[i] in ADlist:\n",
        "        ouP.AddObj('')\n",
        "    elif inP.Ins[i] in table.AMlist:\n",
        "        am = table.AMlist.index(inP.Ins[i])\n",
        "        op = table.OPcode[am]\n",
        "        \n",
        "        # Try PC relative\n",
        "        var_loc = inP.Var.index(inP.Item[i])\n",
        "        disp = hex(int(inP.Loc[var_loc], 16)-int(inP.Loc[i], 16)-int('3', 16))\n",
        "        if disp>int('FFF', 16):\n",
        "            item = inP.Item[i]\n",
        "        elif item[1]=='#':\n",
        "            #direct\n",
        "        else:\n",
        "            break\n",
        "    else:\n",
        "        print('Error：Cannot find vaild Ins')\n",
        "        break"
      ],
      "execution_count": null,
      "outputs": []
    },
    {
      "cell_type": "markdown",
      "metadata": {
        "id": "R_uKje_sb75X",
        "colab_type": "text"
      },
      "source": [
        "#Test"
      ]
    },
    {
      "cell_type": "code",
      "metadata": {
        "id": "HdWscuPcxlwN",
        "colab_type": "code",
        "colab": {
          "base_uri": "https://localhost:8080/",
          "height": 51
        },
        "outputId": "45868efa-0e83-4ea0-c3b6-a3eb714094ca"
      },
      "source": [
        "print(inP.Loc[-2], inP.Loc[0])\n",
        "hex(int(last_loc, 16)+3-int(inP.Loc[0], 16))"
      ],
      "execution_count": null,
      "outputs": [
        {
          "output_type": "stream",
          "text": [
            "207b 1000\n"
          ],
          "name": "stdout"
        },
        {
          "output_type": "execute_result",
          "data": {
            "text/plain": [
              "'0x107e'"
            ]
          },
          "metadata": {
            "tags": []
          },
          "execution_count": 39
        }
      ]
    },
    {
      "cell_type": "code",
      "metadata": {
        "id": "qddNkwn-zS0g",
        "colab_type": "code",
        "colab": {}
      },
      "source": [
        "#test\n",
        "x = 0x09\n",
        "y = hex(x+3)\n",
        "y = str(y)\n",
        "y[2:].zfill(4)"
      ],
      "execution_count": null,
      "outputs": []
    },
    {
      "cell_type": "code",
      "metadata": {
        "id": "OKNcqXDm5t1x",
        "colab_type": "code",
        "colab": {}
      },
      "source": [
        "#test\n",
        "class table:\n",
        "  def __init__(self):\n",
        "    self.alist = []\n",
        "\n",
        "  def addlist(self, el):\n",
        "    self.alist.append(el)\n",
        "\n",
        "\n",
        "T = table()\n",
        "T.addlist(\"c\")\n",
        "T.addlist(\"d\")\n",
        "\n",
        "for x in T.alist:\n",
        "  print(x)\n",
        "\n",
        "d = 'c'\n",
        "boolen = d in T.alist\n",
        "print(boolen)"
      ],
      "execution_count": null,
      "outputs": []
    },
    {
      "cell_type": "code",
      "metadata": {
        "id": "pSRl8uut0snT",
        "colab_type": "code",
        "colab": {}
      },
      "source": [
        "a = '.'\n",
        "b = False\n",
        "print(a == '.')"
      ],
      "execution_count": null,
      "outputs": []
    },
    {
      "cell_type": "code",
      "metadata": {
        "id": "0vHgT0j39h0Z",
        "colab_type": "code",
        "colab": {}
      },
      "source": [
        "a = 4096\n",
        "print(hex(a))\n",
        "y = hex(a)\n",
        "b = 2000\n",
        "print(hextoint(y)+b)"
      ],
      "execution_count": null,
      "outputs": []
    },
    {
      "cell_type": "code",
      "metadata": {
        "id": "i3Gko6EC5Ot8",
        "colab_type": "code",
        "colab": {}
      },
      "source": [
        "a = \"a b c d\"\n",
        "\n",
        "for b in a\n",
        "\n",
        "b = \"a b c \"\n",
        "x= a.split()\n",
        "y= b.split()\n",
        "if()\n",
        "print(x[3])\n",
        "print(y[3])"
      ],
      "execution_count": null,
      "outputs": []
    },
    {
      "cell_type": "code",
      "metadata": {
        "id": "P5YPmWT2y0WC",
        "colab_type": "code",
        "colab": {}
      },
      "source": [
        "arr = ['a','b','c','d']\n",
        "\n",
        "\n",
        "lab[arr.index('b')]\n",
        "\n",
        "print(arr.index('b'))"
      ],
      "execution_count": null,
      "outputs": []
    },
    {
      "cell_type": "code",
      "metadata": {
        "id": "0v0ujz9PASMQ",
        "colab_type": "code",
        "colab": {
          "base_uri": "https://localhost:8080/",
          "height": 51
        },
        "outputId": "c48bc632-6ddc-4846-af81-3d751640e308"
      },
      "source": [
        "import sys\n",
        "print(sys.version)"
      ],
      "execution_count": null,
      "outputs": [
        {
          "output_type": "stream",
          "text": [
            "3.6.9 (default, Apr 18 2020, 01:56:04) \n",
            "[GCC 8.4.0]\n"
          ],
          "name": "stdout"
        }
      ]
    }
  ]
}